{
 "cells": [
  {
   "cell_type": "code",
   "execution_count": null,
   "metadata": {},
   "outputs": [],
   "source": [
    "# import numpy package for arrays and stuff \n",
    "import numpy as np \n",
    "\n",
    "# import matplotlib.pyplot for plotting our result \n",
    "import matplotlib.pyplot as plt \n",
    "\n",
    "# import pandas for importing csv files \n",
    "import pandas as pd \n",
    "\n",
    "# import the regressor \n",
    "from sklearn.tree import DecisionTreeRegressor "
   ]
  },
  {
   "cell_type": "code",
   "execution_count": null,
   "metadata": {},
   "outputs": [],
   "source": [
    "dataset"
   ]
  },
  {
   "cell_type": "code",
   "execution_count": null,
   "metadata": {},
   "outputs": [],
   "source": [
    "# import dataset \n",
    "dataset = pd.read_csv('~/Downloads/Data Science/data set/Company_Data.csv') "
   ]
  },
  {
   "cell_type": "code",
   "execution_count": null,
   "metadata": {},
   "outputs": [],
   "source": [
    "# seprate categorical and numerical value\n",
    "categorical = [col for col in dataset.columns if dataset[col].dtype==object]\n",
    "numerical = [col for col in dataset.columns if dataset[col].dtype!=object]"
   ]
  },
  {
   "cell_type": "code",
   "execution_count": null,
   "metadata": {},
   "outputs": [],
   "source": [
    "# for convert categorical to int\n",
    "for col in categorical:\n",
    "    temp = {}\n",
    "    count = 0\n",
    "    for val in dataset[col].values:\n",
    "        try:\n",
    "            temp[val]\n",
    "        except:\n",
    "            temp[val] = count\n",
    "            count += 1\n",
    "    dataset[col] = [temp[x] for x in dataset[col].values]\n",
    "print(dataset[categorical])"
   ]
  },
  {
   "cell_type": "code",
   "execution_count": null,
   "metadata": {},
   "outputs": [],
   "source": [
    "# print the dataset \n",
    "\n",
    "X = dataset.iloc[0:199].values \n",
    "y = dataset.iloc[200:399].values"
   ]
  },
  {
   "cell_type": "code",
   "execution_count": null,
   "metadata": {},
   "outputs": [],
   "source": [
    "# create a decisiontreeregressor model \n",
    "regressor = DecisionTreeRegressor(random_state = 0) \n",
    "\n",
    "# fit the regressor with X and Y data \n",
    "regressor.fit(X, y) "
   ]
  },
  {
   "cell_type": "code",
   "execution_count": null,
   "metadata": {},
   "outputs": [],
   "source": [
    "# arange for creating a range of values \n",
    "# from min value of X to max value of X \n",
    "# with a difference of 0.01 between two \n",
    "# consecutive values \n",
    "X_grid = np.arange(min(X), max(X), 0.01) \n",
    "\n",
    "# reshape for reshaping the data into \n",
    "# a len(X_grid)*1 array, i.e. to make \n",
    "# a column out of the X_grid values \n",
    "X_grid = X_grid.reshape((len(X_grid), 1)) \n",
    "\n",
    "# scatter plot for original data \n",
    "plt.scatter(X, y, color = 'red') \n",
    "\n",
    "# plot predicted data \n",
    "plt.plot(X_grid, regressor.predict(X_grid), color = 'blue') \n",
    "\n",
    "# specify title \n",
    "plt.title('Profit to Production Cost (Decision Tree Regression)') \n",
    "\n",
    "# specify X axis label \n",
    "plt.xlabel('Production Cost') \n",
    "\n",
    "# specify Y axis label \n",
    "plt.ylabel('Profit') \n",
    "\n",
    "# show the plot \n",
    "plt.show() "
   ]
  }
 ],
 "metadata": {
  "kernelspec": {
   "display_name": "Python 3",
   "language": "python",
   "name": "python3"
  },
  "language_info": {
   "codemirror_mode": {
    "name": "ipython",
    "version": 3
   },
   "file_extension": ".py",
   "mimetype": "text/x-python",
   "name": "python",
   "nbconvert_exporter": "python",
   "pygments_lexer": "ipython3",
   "version": "3.6.8"
  }
 },
 "nbformat": 4,
 "nbformat_minor": 4
}
